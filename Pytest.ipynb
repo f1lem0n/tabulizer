{
 "cells": [
  {
   "cell_type": "code",
   "execution_count": 11,
   "id": "678d4961-8920-419a-9e8b-a9c2f71354d4",
   "metadata": {},
   "outputs": [],
   "source": [
    "import sys\n",
    "from dataclasses import dataclass, field\n",
    "\n",
    "import numpy as np\n",
    "import pandas as pd\n",
    "import rpy2.robjects as R"
   ]
  },
  {
   "cell_type": "code",
   "execution_count": 10,
   "id": "c5cda085-f721-427c-a663-7217e581893a",
   "metadata": {},
   "outputs": [],
   "source": [
    "def read_file(input_path: str):\n",
    "    \n",
    "    # checking extensions\n",
    "    filetype = file.split(\".\")[-1]\n",
    "    if filetype == \"xlsx\" or filetype == \"xls\" or filetype == \"ods\":\n",
    "        df = pd.read_excel(input_path, header=None)\n",
    "    elif filetype == \"csv\":\n",
    "        df = pd.read_csv(input_path, sep=\",\", header=None)\n",
    "    elif filetype == \"tsv\":\n",
    "        df = pd.read_csv(input_path, sep=\"\\t\", header=None)\n",
    "    else:\n",
    "        print(\"Filetype not supported.\")\n",
    "        sys.exit()\n",
    "    \n",
    "    # trimming the array\n",
    "    array = np.asarray(df)\n",
    "    trimmed = array[-8:, -12:]\n",
    "    \n",
    "    # array to list\n",
    "    ordered = []\n",
    "    for row in trimmed:\n",
    "        for val in row:\n",
    "            ordered.append(val)\n",
    "    \n",
    "    return ordered\n",
    "\n",
    "\n",
    "def make_col(file: str, var_name: str, var_type: str, unit: str=\"\"):\n",
    "    \n",
    "    # checking for NOIR type\n",
    "    if var_type not in [\"N\", \"O\", \"I\", \"R\"]:\n",
    "        print(\"Incorrect variable type.\")\n",
    "        sys.exit()\n",
    "        \n",
    "    # checking for unit\n",
    "    if var_type in [\"I\", \"R\"] and unit != \"\":\n",
    "        header = f\"{var_name} [{unit}]\"\n",
    "    else:\n",
    "        header = var_name\n",
    "    \n",
    "    # creating the final list\n",
    "    t = [header, f\"var_type:{var_type}\"]\n",
    "    ordered = read_file(file)\n",
    "    defined = t + ordered\n",
    "    \n",
    "    return defined\n",
    "\n",
    "def make_table(*col: list, output_path: str):\n",
    "    \n",
    "    columns = {}\n",
    "    for c in col:\n",
    "        columns[c[0]] = c[1:]\n",
    "    table = pd.DataFrame(columns)\n",
    "    table.to_csv(output_path, index=False)\n",
    "                "
   ]
  },
  {
   "cell_type": "code",
   "execution_count": 13,
   "id": "0d839100-a256-44be-a400-d8a755006e66",
   "metadata": {},
   "outputs": [],
   "source": [
    "file = \"data/2021.12.13.xlsx\"\n",
    "template = \"data/template1.ods\"\n",
    "\n",
    "data = make_col(\n",
    "    file,\n",
    "    var_name=\"absorbance\",\n",
    "    var_type=\"I\"\n",
    ")\n",
    "\n",
    "temp1 = make_col(\n",
    "    template,\n",
    "    var_name=\"column\",\n",
    "    var_type=\"N\"\n",
    ")\n",
    "\n",
    "make_table(\n",
    "    temp1,\n",
    "    data,\n",
    "    output_path=\"out/table1.csv\"\n",
    ")"
   ]
  },
  {
   "cell_type": "code",
   "execution_count": 2,
   "id": "a3c3588b-ddf4-43e5-a606-22a43ab6310d",
   "metadata": {},
   "outputs": [],
   "source": [
    "def read_data(input_path: str):\n",
    "    \n",
    "    # checking extensions\n",
    "    filetype = input_path.split(\".\")[-1]\n",
    "    if filetype == \"xlsx\" or filetype == \"xls\" or filetype == \"ods\":\n",
    "        df = pd.read_excel(input_path, header=None)\n",
    "    elif filetype == \"csv\":\n",
    "        df = pd.read_csv(input_path, sep=\",\", header=None)\n",
    "    elif filetype == \"tsv\":\n",
    "        df = pd.read_csv(input_path, sep=\"\\t\", header=None)\n",
    "    else:\n",
    "        print(\"Filetype not supported.\")\n",
    "        sys.exit()\n",
    "\n",
    "    # trimming the array\n",
    "    array = np.asarray(df)\n",
    "    trimmed = array[-8:, -12:]\n",
    "\n",
    "    # array to list\n",
    "    col = []\n",
    "    for row in trimmed:\n",
    "        for val in row:\n",
    "            col.append(val)\n",
    "\n",
    "    return col\n",
    "\n",
    "@dataclass\n",
    "class Variable:\n",
    "    input_path: str = field(repr=False)\n",
    "    var_name: str = field(repr=False)\n",
    "    var_type: str = field(repr=False)\n",
    "    unit: str = field(repr=False, default=\"\")\n",
    "    header: str = field(init=False)\n",
    "    data: list = field(init=False)\n",
    "    \n",
    "    def __post_init__(self):\n",
    "        # checking for NOIR type\n",
    "        if self.var_type not in [\"N\", \"O\", \"I\", \"R\"]:\n",
    "            print(\"Incorrect variable type. Choose one of these: N, O, I, R.\")\n",
    "            sys.exit()\n",
    "\n",
    "        # checking for unit\n",
    "        if self.var_type in [\"I\", \"R\"] and self.unit != \"\":\n",
    "            self.header = f\"{self.var_name} [{self.unit}]\"\n",
    "        else:\n",
    "            self.header = self.var_name\n",
    "            \n",
    "        self.data = read_data(self.input_path)"
   ]
  },
  {
   "cell_type": "code",
   "execution_count": 3,
   "id": "074b37a5-ebc4-416c-a71d-dfeb9cc2019a",
   "metadata": {},
   "outputs": [],
   "source": [
    "var1 = Variable(\n",
    "    input_path=\"data/2021.12.13.xlsx\",\n",
    "    var_name=\"absorbance\",\n",
    "    var_type=\"R\",\n",
    "    unit=\"RU\"\n",
    ")"
   ]
  },
  {
   "cell_type": "code",
   "execution_count": 4,
   "id": "baa2181e-5225-425d-b494-06a15d575807",
   "metadata": {},
   "outputs": [
    {
     "data": {
      "text/plain": [
       "Variable(header='absorbance [RU]', data=[0.786, 0.7, 0.576, 0.462, 0.392, 0.311, 0.836, 0.738, 0.629, 0.511, 0.312, 0.32, 0.733, 0.697, 0.588, 0.52, 0.36, 0.302, 0.805, 0.696, 0.621, 0.551, 0.298, 0.295, 0.422, 0.388, 0.388, 0.37, 0.431, 0.402, 0.395, 0.389, 0.6, 0.466, 0.534, 0.513, 0.455, 0.361, 0.379, 0.367, 0.452, 0.39, 0.388, 0.386, 0.582, 0.531, 0.54, 0.48, 0.422, 0.412, 0.468, 0.396, 0.746, 0.595, 0.683, 0.59, 0.676, 0.637, 0.644, 0.575, 0.353, 0.383, 0.415, 0.359, 0.7, 0.537, 0.648, 0.484, 0.622, 0.558, 0.545, 0.496, 0.849, 0.717, 0.887, 0.772, 0.762, 0.723, 0.786, 0.769, 0.296, 0.288, 0.28, 0.286, 0.803, 0.519, 0.771, 0.685, 0.718, 0.694, 0.755, 0.731, 0.239, 0.226, 0.227, 0.218])"
      ]
     },
     "execution_count": 4,
     "metadata": {},
     "output_type": "execute_result"
    }
   ],
   "source": [
    "var1"
   ]
  },
  {
   "cell_type": "code",
   "execution_count": 5,
   "id": "def92863-3cc7-4523-92e0-85f75d3a626d",
   "metadata": {},
   "outputs": [
    {
     "data": {
      "text/plain": [
       "Variable(header='column', data=['kolumna1', 'kolumna2', 'kolumna3', 'kolumna4', 'kolumna5', 'kolumna6', 'kolumna7', 'kolumna8', 'kolumna9', 'kolumna10', 'kolumna11', 'kolumna12', 'kolumna1', 'kolumna2', 'kolumna3', 'kolumna4', 'kolumna5', 'kolumna6', 'kolumna7', 'kolumna8', 'kolumna9', 'kolumna10', 'kolumna11', 'kolumna12', 'kolumna1', 'kolumna2', 'kolumna3', 'kolumna4', 'kolumna5', 'kolumna6', 'kolumna7', 'kolumna8', 'kolumna9', 'kolumna10', 'kolumna11', 'kolumna12', 'kolumna1', 'kolumna2', 'kolumna3', 'kolumna4', 'kolumna5', 'kolumna6', 'kolumna7', 'kolumna8', 'kolumna9', 'kolumna10', 'kolumna11', 'kolumna12', 'kolumna1', 'kolumna2', 'kolumna3', 'kolumna4', 'kolumna5', 'kolumna6', 'kolumna7', 'kolumna8', 'kolumna9', 'kolumna10', 'kolumna11', 'kolumna12', 'kolumna1', 'kolumna2', 'kolumna3', 'kolumna4', 'kolumna5', 'kolumna6', 'kolumna7', 'kolumna8', 'kolumna9', 'kolumna10', 'kolumna11', 'kolumna12', 'kolumna1', 'kolumna2', 'kolumna3', 'kolumna4', 'kolumna5', 'kolumna6', 'kolumna7', 'kolumna8', 'kolumna9', 'kolumna10', 'kolumna11', 'kolumna12', 'kolumna1', 'kolumna2', 'kolumna3', 'kolumna4', 'kolumna5', 'kolumna6', 'kolumna7', 'kolumna8', 'kolumna9', 'kolumna10', 'kolumna11', 'kolumna12'])"
      ]
     },
     "execution_count": 5,
     "metadata": {},
     "output_type": "execute_result"
    }
   ],
   "source": [
    "var2 = Variable(\n",
    "    input_path=\"data/template1.ods\",\n",
    "    var_name=\"column\",\n",
    "    var_type=\"N\",\n",
    "    unit=\"\"\n",
    ")\n",
    "var2"
   ]
  },
  {
   "cell_type": "code",
   "execution_count": 15,
   "id": "9d10f567-d381-4ca3-8ca8-b71541c1abba",
   "metadata": {},
   "outputs": [],
   "source": [
    "dataframe = {\n",
    "        var1.header: R.FloatVector(var1.data),\n",
    "        var2.header: R.StrVector(var2.data),\n",
    "}\n",
    "dataframe\n",
    "\n",
    "df = R.DataFrame(dataframe)"
   ]
  },
  {
   "cell_type": "code",
   "execution_count": 21,
   "id": "49b91575-cde9-4067-a8f2-a84007e34be0",
   "metadata": {},
   "outputs": [
    {
     "name": "stdout",
     "output_type": "stream",
     "text": [
      "[1] \"absorbance [RU]\" \"column\"         \n",
      "\n"
     ]
    }
   ],
   "source": [
    "print(df.colnames)"
   ]
  },
  {
   "cell_type": "code",
   "execution_count": 37,
   "id": "0df1ae6c-3723-4621-a4b8-28bea29bb851",
   "metadata": {},
   "outputs": [],
   "source": [
    "def make_df(*var: object):\n",
    "    df = {}\n",
    "    for v in var:\n",
    "        if v.var_type == \"N\":\n",
    "            df[v.header] = R.StrVector(v.data)\n",
    "        elif v.var_type == \"O\" and type(v.data[0]) == str:\n",
    "            df[v.header] = R.StrVector(v.data)\n",
    "        else:\n",
    "            df[v.header] = R.FloatVector(v.data)\n",
    "    dataframe = R.DataFrame(df)\n",
    "    return dataframe"
   ]
  },
  {
   "cell_type": "code",
   "execution_count": 44,
   "id": "638bd01d-fc70-417f-a323-b245fd5c4525",
   "metadata": {},
   "outputs": [
    {
     "name": "stdout",
     "output_type": "stream",
     "text": [
      "   absorbance [RU]    column\n",
      "1            0.786  kolumna1\n",
      "2            0.700  kolumna2\n",
      "3            0.576  kolumna3\n",
      "4            0.462  kolumna4\n",
      "5            0.392  kolumna5\n",
      "6            0.311  kolumna6\n",
      "7            0.836  kolumna7\n",
      "8            0.738  kolumna8\n",
      "9            0.629  kolumna9\n",
      "10           0.511 kolumna10\n",
      "11           0.312 kolumna11\n",
      "12           0.320 kolumna12\n",
      "13           0.733  kolumna1\n",
      "14           0.697  kolumna2\n",
      "15           0.588  kolumna3\n",
      "16           0.520  kolumna4\n",
      "17           0.360  kolumna5\n",
      "18           0.302  kolumna6\n",
      "19           0.805  kolumna7\n",
      "20           0.696  kolumna8\n",
      "21           0.621  kolumna9\n",
      "22           0.551 kolumna10\n",
      "23           0.298 kolumna11\n",
      "24           0.295 kolumna12\n",
      "25           0.422  kolumna1\n",
      "26           0.388  kolumna2\n",
      "27           0.388  kolumna3\n",
      "28           0.370  kolumna4\n",
      "29           0.431  kolumna5\n",
      "30           0.402  kolumna6\n",
      "31           0.395  kolumna7\n",
      "32           0.389  kolumna8\n",
      "33           0.600  kolumna9\n",
      "34           0.466 kolumna10\n",
      "35           0.534 kolumna11\n",
      "36           0.513 kolumna12\n",
      "37           0.455  kolumna1\n",
      "38           0.361  kolumna2\n",
      "39           0.379  kolumna3\n",
      "40           0.367  kolumna4\n",
      "41           0.452  kolumna5\n",
      "42           0.390  kolumna6\n",
      "43           0.388  kolumna7\n",
      "44           0.386  kolumna8\n",
      "45           0.582  kolumna9\n",
      "46           0.531 kolumna10\n",
      "47           0.540 kolumna11\n",
      "48           0.480 kolumna12\n",
      "49           0.422  kolumna1\n",
      "50           0.412  kolumna2\n",
      "51           0.468  kolumna3\n",
      "52           0.396  kolumna4\n",
      "53           0.746  kolumna5\n",
      "54           0.595  kolumna6\n",
      "55           0.683  kolumna7\n",
      "56           0.590  kolumna8\n",
      "57           0.676  kolumna9\n",
      "58           0.637 kolumna10\n",
      "59           0.644 kolumna11\n",
      "60           0.575 kolumna12\n",
      "61           0.353  kolumna1\n",
      "62           0.383  kolumna2\n",
      "63           0.415  kolumna3\n",
      "64           0.359  kolumna4\n",
      "65           0.700  kolumna5\n",
      "66           0.537  kolumna6\n",
      "67           0.648  kolumna7\n",
      "68           0.484  kolumna8\n",
      "69           0.622  kolumna9\n",
      "70           0.558 kolumna10\n",
      "71           0.545 kolumna11\n",
      "72           0.496 kolumna12\n",
      "73           0.849  kolumna1\n",
      "74           0.717  kolumna2\n",
      "75           0.887  kolumna3\n",
      "76           0.772  kolumna4\n",
      "77           0.762  kolumna5\n",
      "78           0.723  kolumna6\n",
      "79           0.786  kolumna7\n",
      "80           0.769  kolumna8\n",
      "81           0.296  kolumna9\n",
      "82           0.288 kolumna10\n",
      "83           0.280 kolumna11\n",
      "84           0.286 kolumna12\n",
      "85           0.803  kolumna1\n",
      "86           0.519  kolumna2\n",
      "87           0.771  kolumna3\n",
      "88           0.685  kolumna4\n",
      "89           0.718  kolumna5\n",
      "90           0.694  kolumna6\n",
      "91           0.755  kolumna7\n",
      "92           0.731  kolumna8\n",
      "93           0.239  kolumna9\n",
      "94           0.226 kolumna10\n",
      "95           0.227 kolumna11\n",
      "96           0.218 kolumna12\n",
      "\n"
     ]
    }
   ],
   "source": [
    "df1 = make_df(var1, var2)\n",
    "print(df1)"
   ]
  },
  {
   "cell_type": "code",
   "execution_count": 35,
   "id": "a923bc8e-6084-4aaf-a131-c80347023878",
   "metadata": {},
   "outputs": [
    {
     "data": {
      "text/plain": [
       "<module 'rpy2.robjects.vectors' from '/home/f1lem0n/.config/anaconda3/envs/mda/lib/python3.10/site-packages/rpy2/robjects/vectors.py'>"
      ]
     },
     "execution_count": 35,
     "metadata": {},
     "output_type": "execute_result"
    }
   ],
   "source": []
  },
  {
   "cell_type": "code",
   "execution_count": null,
   "id": "2319bf11-4267-4153-8f49-049379e3de70",
   "metadata": {},
   "outputs": [],
   "source": []
  }
 ],
 "metadata": {
  "kernelspec": {
   "display_name": "Python 3 (ipykernel)",
   "language": "python",
   "name": "python3"
  },
  "language_info": {
   "codemirror_mode": {
    "name": "ipython",
    "version": 3
   },
   "file_extension": ".py",
   "mimetype": "text/x-python",
   "name": "python",
   "nbconvert_exporter": "python",
   "pygments_lexer": "ipython3",
   "version": "3.10.8"
  }
 },
 "nbformat": 4,
 "nbformat_minor": 5
}
