{
 "cells": [
  {
   "cell_type": "code",
   "execution_count": 13,
   "id": "678d4961-8920-419a-9e8b-a9c2f71354d4",
   "metadata": {},
   "outputs": [],
   "source": [
    "import numpy as np\n",
    "import pandas as pd\n",
    "import sys\n",
    "from dataclasses import dataclass, field"
   ]
  },
  {
   "cell_type": "code",
   "execution_count": 10,
   "id": "c5cda085-f721-427c-a663-7217e581893a",
   "metadata": {},
   "outputs": [],
   "source": [
    "def read_file(input_path: str):\n",
    "    \n",
    "    # checking extensions\n",
    "    filetype = file.split(\".\")[-1]\n",
    "    if filetype == \"xlsx\" or filetype == \"xls\" or filetype == \"ods\":\n",
    "        df = pd.read_excel(input_path, header=None)\n",
    "    elif filetype == \"csv\":\n",
    "        df = pd.read_csv(input_path, sep=\",\", header=None)\n",
    "    elif filetype == \"tsv\":\n",
    "        df = pd.read_csv(input_path, sep=\"\\t\", header=None)\n",
    "    else:\n",
    "        print(\"Filetype not supported.\")\n",
    "        sys.exit()\n",
    "    \n",
    "    # trimming the array\n",
    "    array = np.asarray(df)\n",
    "    trimmed = array[-8:, -12:]\n",
    "    \n",
    "    # array to list\n",
    "    ordered = []\n",
    "    for row in trimmed:\n",
    "        for val in row:\n",
    "            ordered.append(val)\n",
    "    \n",
    "    return ordered\n",
    "\n",
    "\n",
    "def make_col(file: str, var_name: str, var_type: str, unit: str=\"\"):\n",
    "    \n",
    "    # checking for NOIR type\n",
    "    if var_type not in [\"N\", \"O\", \"I\", \"R\"]:\n",
    "        print(\"Incorrect variable type.\")\n",
    "        sys.exit()\n",
    "        \n",
    "    # checking for unit\n",
    "    if var_type in [\"I\", \"R\"] and unit != \"\":\n",
    "        header = f\"{var_name} [{unit}]\"\n",
    "    else:\n",
    "        header = var_name\n",
    "    \n",
    "    # creating the final list\n",
    "    t = [header, f\"var_type:{var_type}\"]\n",
    "    ordered = read_file(file)\n",
    "    defined = t + ordered\n",
    "    \n",
    "    return defined\n",
    "\n",
    "def make_table(*col: list, output_path: str):\n",
    "    \n",
    "    columns = {}\n",
    "    for c in col:\n",
    "        columns[c[0]] = c[1:]\n",
    "    table = pd.DataFrame(columns)\n",
    "    table.to_csv(output_path, index=False)\n",
    "                "
   ]
  },
  {
   "cell_type": "code",
   "execution_count": 13,
   "id": "0d839100-a256-44be-a400-d8a755006e66",
   "metadata": {},
   "outputs": [],
   "source": [
    "file = \"data/2021.12.13.xlsx\"\n",
    "template = \"data/template1.ods\"\n",
    "\n",
    "data = make_col(\n",
    "    file,\n",
    "    var_name=\"absorbance\",\n",
    "    var_type=\"I\"\n",
    ")\n",
    "\n",
    "temp1 = make_col(\n",
    "    template,\n",
    "    var_name=\"column\",\n",
    "    var_type=\"N\"\n",
    ")\n",
    "\n",
    "make_table(\n",
    "    temp1,\n",
    "    data,\n",
    "    output_path=\"out/table1.csv\"\n",
    ")"
   ]
  },
  {
   "cell_type": "code",
   "execution_count": 116,
   "id": "a3c3588b-ddf4-43e5-a606-22a43ab6310d",
   "metadata": {},
   "outputs": [],
   "source": [
    "def read_data(input_path: str):\n",
    "    \n",
    "    # checking extensions\n",
    "    filetype = input_path.split(\".\")[-1]\n",
    "    if filetype == \"xlsx\" or filetype == \"xls\" or filetype == \"ods\":\n",
    "        df = pd.read_excel(input_path, header=None)\n",
    "    elif filetype == \"csv\":\n",
    "        df = pd.read_csv(input_path, sep=\",\", header=None)\n",
    "    elif filetype == \"tsv\":\n",
    "        df = pd.read_csv(input_path, sep=\"\\t\", header=None)\n",
    "    else:\n",
    "        print(\"Filetype not supported.\")\n",
    "        sys.exit()\n",
    "\n",
    "    # trimming the array\n",
    "    array = np.asarray(df)\n",
    "    trimmed = array[-8:, -12:]\n",
    "\n",
    "    # array to list\n",
    "    col = []\n",
    "    for row in trimmed:\n",
    "        for val in row:\n",
    "            col.append(val)\n",
    "\n",
    "    return col\n",
    "\n",
    "def gen_id():\n",
    "    return \"\".join(\"TWOJA STARA\")\n",
    "\n",
    "@dataclass\n",
    "class Variable:\n",
    "    input_path: str = field(repr=False)\n",
    "    var_name: str = field(repr=False)\n",
    "    var_type: str \n",
    "    unit: str = field(repr=False, default=\"\")\n",
    "    header: str = field(init=False)\n",
    "    data: list = field(init=False)\n",
    "    column: dict = field(init=False, repr=False)\n",
    "    \n",
    "    def __post_init__(self):\n",
    "        # checking for NOIR type\n",
    "        if self.var_type not in [\"N\", \"O\", \"I\", \"R\"]:\n",
    "            print(\"Incorrect variable type. Choose one of these: N, O, I, R.\")\n",
    "            sys.exit()\n",
    "\n",
    "        # checking for unit\n",
    "        if self.var_type in [\"I\", \"R\"] and self.unit != \"\":\n",
    "            self.header = f\"{self.var_name} [{self.unit}]\"\n",
    "        else:\n",
    "            self.header = self.var_name\n",
    "            \n",
    "        self.data = read_data(self.input_path)\n",
    "        self.column = {self.header: self.data}"
   ]
  },
  {
   "cell_type": "code",
   "execution_count": 121,
   "id": "074b37a5-ebc4-416c-a71d-dfeb9cc2019a",
   "metadata": {},
   "outputs": [],
   "source": [
    "var1 = Variable(\n",
    "    input_path=\"data/2021.12.13.xlsx\",\n",
    "    var_name=\"absorbance\",\n",
    "    var_type=\"R\",\n",
    "    unit=\"RU\"\n",
    ")"
   ]
  },
  {
   "cell_type": "code",
   "execution_count": 122,
   "id": "baa2181e-5225-425d-b494-06a15d575807",
   "metadata": {},
   "outputs": [
    {
     "data": {
      "text/plain": [
       "Variable(var_type='R', header='absorbance [RU]', data=[0.786, 0.7, 0.576, 0.462, 0.392, 0.311, 0.836, 0.738, 0.629, 0.511, 0.312, 0.32, 0.733, 0.697, 0.588, 0.52, 0.36, 0.302, 0.805, 0.696, 0.621, 0.551, 0.298, 0.295, 0.422, 0.388, 0.388, 0.37, 0.431, 0.402, 0.395, 0.389, 0.6, 0.466, 0.534, 0.513, 0.455, 0.361, 0.379, 0.367, 0.452, 0.39, 0.388, 0.386, 0.582, 0.531, 0.54, 0.48, 0.422, 0.412, 0.468, 0.396, 0.746, 0.595, 0.683, 0.59, 0.676, 0.637, 0.644, 0.575, 0.353, 0.383, 0.415, 0.359, 0.7, 0.537, 0.648, 0.484, 0.622, 0.558, 0.545, 0.496, 0.849, 0.717, 0.887, 0.772, 0.762, 0.723, 0.786, 0.769, 0.296, 0.288, 0.28, 0.286, 0.803, 0.519, 0.771, 0.685, 0.718, 0.694, 0.755, 0.731, 0.239, 0.226, 0.227, 0.218])"
      ]
     },
     "execution_count": 122,
     "metadata": {},
     "output_type": "execute_result"
    }
   ],
   "source": [
    "var1"
   ]
  },
  {
   "cell_type": "code",
   "execution_count": null,
   "id": "def92863-3cc7-4523-92e0-85f75d3a626d",
   "metadata": {},
   "outputs": [],
   "source": []
  }
 ],
 "metadata": {
  "kernelspec": {
   "display_name": "Python 3 (ipykernel)",
   "language": "python",
   "name": "python3"
  },
  "language_info": {
   "codemirror_mode": {
    "name": "ipython",
    "version": 3
   },
   "file_extension": ".py",
   "mimetype": "text/x-python",
   "name": "python",
   "nbconvert_exporter": "python",
   "pygments_lexer": "ipython3",
   "version": "3.10.8"
  }
 },
 "nbformat": 4,
 "nbformat_minor": 5
}
