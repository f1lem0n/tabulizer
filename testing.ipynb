{
 "cells": [
  {
   "cell_type": "markdown",
   "id": "bac0a45e",
   "metadata": {},
   "source": [
    "# Quick tests of small code chunks"
   ]
  },
  {
   "cell_type": "markdown",
   "id": "4e6b45dd",
   "metadata": {},
   "source": [
    "## np.array resize using excel style range"
   ]
  },
  {
   "cell_type": "code",
   "execution_count": 117,
   "id": "f01262d8",
   "metadata": {},
   "outputs": [
    {
     "name": "stdout",
     "output_type": "stream",
     "text": [
      "[[0.50314612 0.14238465 0.32661468]\n",
      " [0.15058171 0.69183339 0.98404963]\n",
      " [0.57774101 0.86280871 0.64289943]\n",
      " [0.80767845 0.98864381 0.50551012]\n",
      " [0.06271575 0.56241126 0.5195514 ]]\n"
     ]
    }
   ],
   "source": [
    "import numpy as np\n",
    "import pandas as pd\n",
    "import re\n",
    "\n",
    "input_path = \"sample_data/random1.xls\"\n",
    "\n",
    "filetype = input_path.split(\".\")[-1]\n",
    "if filetype == \"xlsx\" or filetype == \"xls\" or filetype == \"ods\":\n",
    "    df = pd.read_excel(input_path, header=None)\n",
    "elif filetype == \"csv\":\n",
    "    df = pd.read_csv(input_path, sep=\",\", header=None)\n",
    "elif filetype == \"tsv\":\n",
    "    df = pd.read_csv(input_path, sep=\"\\t\", header=None)\n",
    "else:\n",
    "    raise TypeError(f\"\"\"\n",
    "                    Format is {filetype} not supported\n",
    "                    You may want to use:\n",
    "                    csv\n",
    "                    tsv\n",
    "                    xlsx\n",
    "                    xls\n",
    "                    ods\n",
    "                    \"\"\")\n",
    "array = np.asarray(df)\n",
    "\n",
    "\n",
    "size = \"A1:C5\"\n",
    "def resize(array, size):\n",
    "    cols = \"ABCDEFGHIJKLMNOPQRSTUVWXYZ\"\n",
    "    start = size.split(\":\")[0]\n",
    "    end = size.split(\":\")[-1]\n",
    "    \n",
    "    start_column_code = re.findall(\"[A-Z]\", start)\n",
    "    end_column_code = re.findall(\"[A-Z]\", end)\n",
    "    \n",
    "    start_col_idx = len(cols) * (len(start_column_code) - 1) + cols.find(start_column_code[-1])\n",
    "    end_col_idx = len(cols) * (len(end_column_code) - 1) + cols.find(end_column_code[-1]) + 1\n",
    "    \n",
    "    start_row_idx = int(\"\".join(re.findall(\"[0-9]\", start))) - 1\n",
    "    end_row_idx = int(\"\".join(re.findall(\"[0-9]\", end)))\n",
    "    \n",
    "    resized = array[start_row_idx:end_row_idx,\n",
    "                    start_col_idx:end_col_idx]\n",
    "    if list(resized):\n",
    "        return resized\n",
    "    else:\n",
    "        raise ValueError(f\"Range {size} returns an empty array.\")\n",
    "\n",
    "resized = resize(array, size)\n",
    "print(resized)"
   ]
  },
  {
   "cell_type": "markdown",
   "id": "3fb4a5ec",
   "metadata": {},
   "source": [
    "## check if string is empty"
   ]
  },
  {
   "cell_type": "code",
   "execution_count": 120,
   "id": "0918004c",
   "metadata": {},
   "outputs": [
    {
     "name": "stdout",
     "output_type": "stream",
     "text": [
      "empty\n"
     ]
    }
   ],
   "source": [
    "s = \"\"\n",
    "if s:\n",
    "    print(\"not empty\")\n",
    "else:\n",
    "    print(\"empty\")"
   ]
  },
  {
   "cell_type": "code",
   "execution_count": 124,
   "id": "641bb5f9",
   "metadata": {},
   "outputs": [
    {
     "data": {
      "text/plain": [
       "float"
      ]
     },
     "execution_count": 124,
     "metadata": {},
     "output_type": "execute_result"
    }
   ],
   "source": [
    "import numpy as np\n",
    "type(np.nan)"
   ]
  },
  {
   "cell_type": "code",
   "execution_count": null,
   "id": "92d13591",
   "metadata": {},
   "outputs": [],
   "source": []
  }
 ],
 "metadata": {
  "kernelspec": {
   "display_name": "Python 3 (ipykernel)",
   "language": "python",
   "name": "python3"
  },
  "language_info": {
   "codemirror_mode": {
    "name": "ipython",
    "version": 3
   },
   "file_extension": ".py",
   "mimetype": "text/x-python",
   "name": "python",
   "nbconvert_exporter": "python",
   "pygments_lexer": "ipython3",
   "version": "3.10.9"
  }
 },
 "nbformat": 4,
 "nbformat_minor": 5
}
