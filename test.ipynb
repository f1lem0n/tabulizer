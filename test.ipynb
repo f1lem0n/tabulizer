{
 "cells": [
  {
   "cell_type": "code",
   "execution_count": 37,
   "id": "678d4961-8920-419a-9e8b-a9c2f71354d4",
   "metadata": {},
   "outputs": [],
   "source": [
    "import numpy as np\n",
    "import pandas as pd\n",
    "import sys"
   ]
  },
  {
   "cell_type": "code",
   "execution_count": 40,
   "id": "c5cda085-f721-427c-a663-7217e581893a",
   "metadata": {},
   "outputs": [],
   "source": [
    "def read_file(file: str): \n",
    "    \n",
    "    filetype = file.split(\".\")[-1]\n",
    "    \n",
    "    if filetype == \"xlsx\" or filetype == \"xls\" or filetype == \"ods\":\n",
    "        df = pd.read_excel(file, header=None)\n",
    "    elif filetype == \"csv\":\n",
    "        df = pd.read_csv(file, sep=\",\", header=None)\n",
    "    elif filetype == \"tsv\":\n",
    "        df = pd.read_csv(file, sep=\"\\t\", header=None)\n",
    "    else:\n",
    "        print(\"Filetype not supported.\")\n",
    "        sys.exit()\n",
    "    \n",
    "    array = np.asarray(df)\n",
    "    trimmed = array[-8:, -12:]\n",
    "    ordered = []\n",
    "    for row in trimmed:\n",
    "        for val in row:\n",
    "            ordered.append(val)\n",
    "    \n",
    "    return ordered"
   ]
  },
  {
   "cell_type": "code",
   "execution_count": 41,
   "id": "0d839100-a256-44be-a400-d8a755006e66",
   "metadata": {},
   "outputs": [],
   "source": [
    "file = \"data/2021.12.13.xlsx\"\n",
    "template = \"data/template1.ods\"\n",
    "data = read_file(file)\n",
    "temp1 = read_file(template)"
   ]
  },
  {
   "cell_type": "code",
   "execution_count": null,
   "id": "159b0e62-1f3e-4ddc-9c73-22b151db927d",
   "metadata": {},
   "outputs": [],
   "source": [
    "len"
   ]
  }
 ],
 "metadata": {
  "kernelspec": {
   "display_name": "Python 3 (ipykernel)",
   "language": "python",
   "name": "python3"
  },
  "language_info": {
   "codemirror_mode": {
    "name": "ipython",
    "version": 3
   },
   "file_extension": ".py",
   "mimetype": "text/x-python",
   "name": "python",
   "nbconvert_exporter": "python",
   "pygments_lexer": "ipython3",
   "version": "3.10.8"
  }
 },
 "nbformat": 4,
 "nbformat_minor": 5
}
